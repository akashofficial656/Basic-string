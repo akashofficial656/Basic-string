{
 "cells": [
  {
   "cell_type": "code",
   "execution_count": 1,
   "id": "5ab22050",
   "metadata": {},
   "outputs": [
    {
     "data": {
      "text/plain": [
       "11"
      ]
     },
     "execution_count": 1,
     "metadata": {},
     "output_type": "execute_result"
    }
   ],
   "source": [
    "6+5"
   ]
  },
  {
   "cell_type": "code",
   "execution_count": 2,
   "id": "6b3ffc08",
   "metadata": {},
   "outputs": [],
   "source": [
    "##HEADING"
   ]
  },
  {
   "cell_type": "code",
   "execution_count": 4,
   "id": "5e85a3ff",
   "metadata": {},
   "outputs": [
    {
     "data": {
      "text/plain": [
       "int"
      ]
     },
     "execution_count": 4,
     "metadata": {},
     "output_type": "execute_result"
    }
   ],
   "source": [
    "a=10\n",
    "type(a)"
   ]
  },
  {
   "cell_type": "code",
   "execution_count": null,
   "id": "c8234844",
   "metadata": {},
   "outputs": [],
   "source": [
    "a,b,c =\"akash\",10,\"this is my car\""
   ]
  },
  {
   "cell_type": "code",
   "execution_count": null,
   "id": "0a9f5cd7",
   "metadata": {},
   "outputs": [],
   "source": []
  },
  {
   "cell_type": "code",
   "execution_count": 11,
   "id": "ed20dc5b",
   "metadata": {},
   "outputs": [
    {
     "ename": "NameError",
     "evalue": "name 'b' is not defined",
     "output_type": "error",
     "traceback": [
      "\u001b[1;31m---------------------------------------------------------------------------\u001b[0m",
      "\u001b[1;31mNameError\u001b[0m                                 Traceback (most recent call last)",
      "\u001b[1;32m~\\AppData\\Local\\Temp/ipykernel_1532/1685013873.py\u001b[0m in \u001b[0;36m<module>\u001b[1;34m\u001b[0m\n\u001b[1;32m----> 1\u001b[1;33m \u001b[0mb\u001b[0m\u001b[1;33m\u001b[0m\u001b[1;33m\u001b[0m\u001b[0m\n\u001b[0m",
      "\u001b[1;31mNameError\u001b[0m: name 'b' is not defined"
     ]
    }
   ],
   "source": [
    "b"
   ]
  },
  {
   "cell_type": "code",
   "execution_count": 13,
   "id": "1ed2a735",
   "metadata": {},
   "outputs": [
    {
     "name": "stdout",
     "output_type": "stream",
     "text": [
      "34\n"
     ]
    }
   ],
   "source": [
    "a=10\n",
    "b=24\n",
    "c=b+a\n",
    "print(c)"
   ]
  },
  {
   "cell_type": "code",
   "execution_count": 14,
   "id": "4e4d789b",
   "metadata": {},
   "outputs": [
    {
     "data": {
      "text/plain": [
       "str"
      ]
     },
     "execution_count": 14,
     "metadata": {},
     "output_type": "execute_result"
    }
   ],
   "source": [
    "s=\"ineuron\"\n",
    "type(s)"
   ]
  },
  {
   "cell_type": "code",
   "execution_count": 15,
   "id": "ce57eef2",
   "metadata": {},
   "outputs": [
    {
     "data": {
      "text/plain": [
       "'i'"
      ]
     },
     "execution_count": 15,
     "metadata": {},
     "output_type": "execute_result"
    }
   ],
   "source": [
    "s[0]"
   ]
  },
  {
   "cell_type": "code",
   "execution_count": 16,
   "id": "4028d60d",
   "metadata": {},
   "outputs": [
    {
     "data": {
      "text/plain": [
       "'o'"
      ]
     },
     "execution_count": 16,
     "metadata": {},
     "output_type": "execute_result"
    }
   ],
   "source": [
    "s[5]"
   ]
  },
  {
   "cell_type": "code",
   "execution_count": 17,
   "id": "4390a606",
   "metadata": {},
   "outputs": [
    {
     "data": {
      "text/plain": [
       "'n'"
      ]
     },
     "execution_count": 17,
     "metadata": {},
     "output_type": "execute_result"
    }
   ],
   "source": [
    "s[-1]"
   ]
  },
  {
   "cell_type": "code",
   "execution_count": 18,
   "id": "5bf890af",
   "metadata": {},
   "outputs": [
    {
     "data": {
      "text/plain": [
       "'a'"
      ]
     },
     "execution_count": 18,
     "metadata": {},
     "output_type": "execute_result"
    }
   ],
   "source": [
    "s1='akash'\n",
    "s1[0]"
   ]
  },
  {
   "cell_type": "code",
   "execution_count": 19,
   "id": "112a425f",
   "metadata": {},
   "outputs": [
    {
     "data": {
      "text/plain": [
       "'h'"
      ]
     },
     "execution_count": 19,
     "metadata": {},
     "output_type": "execute_result"
    }
   ],
   "source": [
    "s1[-1]"
   ]
  },
  {
   "cell_type": "code",
   "execution_count": 40,
   "id": "e9befe6c",
   "metadata": {},
   "outputs": [
    {
     "data": {
      "text/plain": [
       "'ssalc gnimmargorp tsrif ym si siht'"
      ]
     },
     "execution_count": 40,
     "metadata": {},
     "output_type": "execute_result"
    }
   ],
   "source": [
    "s2=\"this is my first programming class\"\n",
    "s2[::-1]"
   ]
  },
  {
   "cell_type": "code",
   "execution_count": 22,
   "id": "fcb281a8",
   "metadata": {},
   "outputs": [
    {
     "data": {
      "text/plain": [
       "'m'"
      ]
     },
     "execution_count": 22,
     "metadata": {},
     "output_type": "execute_result"
    }
   ],
   "source": [
    "s2[8]"
   ]
  },
  {
   "cell_type": "code",
   "execution_count": 23,
   "id": "0bcfed3c",
   "metadata": {},
   "outputs": [
    {
     "data": {
      "text/plain": [
       "'his '"
      ]
     },
     "execution_count": 23,
     "metadata": {},
     "output_type": "execute_result"
    }
   ],
   "source": [
    "s2[1:5]"
   ]
  },
  {
   "cell_type": "code",
   "execution_count": 24,
   "id": "e1d428e8",
   "metadata": {},
   "outputs": [
    {
     "data": {
      "text/plain": [
       "'s my first programming c'"
      ]
     },
     "execution_count": 24,
     "metadata": {},
     "output_type": "execute_result"
    }
   ],
   "source": [
    "s2[6:30]"
   ]
  },
  {
   "cell_type": "code",
   "execution_count": 26,
   "id": "e17f6dea",
   "metadata": {},
   "outputs": [
    {
     "data": {
      "text/plain": [
       "'aah'"
      ]
     },
     "execution_count": 26,
     "metadata": {},
     "output_type": "execute_result"
    }
   ],
   "source": [
    "s='akash'\n",
    "s[0:5:2]"
   ]
  },
  {
   "cell_type": "code",
   "execution_count": 28,
   "id": "6faf9296",
   "metadata": {},
   "outputs": [
    {
     "data": {
      "text/plain": [
       "'akash'"
      ]
     },
     "execution_count": 28,
     "metadata": {},
     "output_type": "execute_result"
    }
   ],
   "source": [
    "s"
   ]
  },
  {
   "cell_type": "code",
   "execution_count": 30,
   "id": "9cd06e51",
   "metadata": {},
   "outputs": [
    {
     "data": {
      "text/plain": [
       "''"
      ]
     },
     "execution_count": 30,
     "metadata": {},
     "output_type": "execute_result"
    }
   ],
   "source": [
    "s[0:5:-1]"
   ]
  },
  {
   "cell_type": "code",
   "execution_count": 33,
   "id": "8d0cfbb4",
   "metadata": {},
   "outputs": [
    {
     "data": {
      "text/plain": [
       "'akash'"
      ]
     },
     "execution_count": 33,
     "metadata": {},
     "output_type": "execute_result"
    }
   ],
   "source": [
    "s"
   ]
  },
  {
   "cell_type": "code",
   "execution_count": 34,
   "id": "fe0732b0",
   "metadata": {},
   "outputs": [
    {
     "data": {
      "text/plain": [
       "'hsak'"
      ]
     },
     "execution_count": 34,
     "metadata": {},
     "output_type": "execute_result"
    }
   ],
   "source": [
    "s[5:0:-1]"
   ]
  },
  {
   "cell_type": "code",
   "execution_count": 35,
   "id": "8ad1a3b7",
   "metadata": {},
   "outputs": [
    {
     "data": {
      "text/plain": [
       "'ak'"
      ]
     },
     "execution_count": 35,
     "metadata": {},
     "output_type": "execute_result"
    }
   ],
   "source": [
    "s[:-3]"
   ]
  },
  {
   "cell_type": "code",
   "execution_count": 36,
   "id": "c8141763",
   "metadata": {},
   "outputs": [
    {
     "data": {
      "text/plain": [
       "'aka'"
      ]
     },
     "execution_count": 36,
     "metadata": {},
     "output_type": "execute_result"
    }
   ],
   "source": [
    "s[:3]"
   ]
  },
  {
   "cell_type": "code",
   "execution_count": 37,
   "id": "ec3f54a8",
   "metadata": {},
   "outputs": [
    {
     "data": {
      "text/plain": [
       "'sh'"
      ]
     },
     "execution_count": 37,
     "metadata": {},
     "output_type": "execute_result"
    }
   ],
   "source": [
    "s[3:]"
   ]
  },
  {
   "cell_type": "code",
   "execution_count": 38,
   "id": "901decd8",
   "metadata": {},
   "outputs": [
    {
     "data": {
      "text/plain": [
       "'aah'"
      ]
     },
     "execution_count": 38,
     "metadata": {},
     "output_type": "execute_result"
    }
   ],
   "source": [
    "s[::2]"
   ]
  },
  {
   "cell_type": "code",
   "execution_count": 39,
   "id": "9352bb6a",
   "metadata": {},
   "outputs": [
    {
     "data": {
      "text/plain": [
       "'hsaka'"
      ]
     },
     "execution_count": 39,
     "metadata": {},
     "output_type": "execute_result"
    }
   ],
   "source": [
    "s[::-1]"
   ]
  },
  {
   "cell_type": "code",
   "execution_count": 41,
   "id": "12e8c332",
   "metadata": {},
   "outputs": [
    {
     "data": {
      "text/plain": [
       "'akash'"
      ]
     },
     "execution_count": 41,
     "metadata": {},
     "output_type": "execute_result"
    }
   ],
   "source": [
    "s"
   ]
  },
  {
   "cell_type": "code",
   "execution_count": 42,
   "id": "a651fd2d",
   "metadata": {},
   "outputs": [
    {
     "data": {
      "text/plain": [
       "''"
      ]
     },
     "execution_count": 42,
     "metadata": {},
     "output_type": "execute_result"
    }
   ],
   "source": [
    "s[-2:-5:1]"
   ]
  },
  {
   "cell_type": "code",
   "execution_count": 43,
   "id": "2a073f1f",
   "metadata": {},
   "outputs": [
    {
     "data": {
      "text/plain": [
       "'akash'"
      ]
     },
     "execution_count": 43,
     "metadata": {},
     "output_type": "execute_result"
    }
   ],
   "source": [
    "s"
   ]
  },
  {
   "cell_type": "code",
   "execution_count": 46,
   "id": "c0e5e286",
   "metadata": {},
   "outputs": [
    {
     "data": {
      "text/plain": [
       "'akash1'"
      ]
     },
     "execution_count": 46,
     "metadata": {},
     "output_type": "execute_result"
    }
   ],
   "source": [
    "s +'1'"
   ]
  },
  {
   "cell_type": "code",
   "execution_count": 47,
   "id": "977ab931",
   "metadata": {},
   "outputs": [
    {
     "data": {
      "text/plain": [
       "'akash1'"
      ]
     },
     "execution_count": 47,
     "metadata": {},
     "output_type": "execute_result"
    }
   ],
   "source": [
    "s+str(1)"
   ]
  },
  {
   "cell_type": "code",
   "execution_count": 48,
   "id": "d1e9a937",
   "metadata": {},
   "outputs": [
    {
     "data": {
      "text/plain": [
       "'akash'"
      ]
     },
     "execution_count": 48,
     "metadata": {},
     "output_type": "execute_result"
    }
   ],
   "source": [
    "s"
   ]
  },
  {
   "cell_type": "code",
   "execution_count": 49,
   "id": "9b86e578",
   "metadata": {},
   "outputs": [
    {
     "data": {
      "text/plain": [
       "5"
      ]
     },
     "execution_count": 49,
     "metadata": {},
     "output_type": "execute_result"
    }
   ],
   "source": [
    "len(s)"
   ]
  },
  {
   "cell_type": "code",
   "execution_count": 50,
   "id": "cbb72c6c",
   "metadata": {},
   "outputs": [
    {
     "data": {
      "text/plain": [
       "'akashakash'"
      ]
     },
     "execution_count": 50,
     "metadata": {},
     "output_type": "execute_result"
    }
   ],
   "source": [
    "s*2"
   ]
  },
  {
   "cell_type": "code",
   "execution_count": 51,
   "id": "50ed751c",
   "metadata": {},
   "outputs": [
    {
     "data": {
      "text/plain": [
       "'akashakashakashakashakashakashakashakashakashakash'"
      ]
     },
     "execution_count": 51,
     "metadata": {},
     "output_type": "execute_result"
    }
   ],
   "source": [
    "s*10"
   ]
  },
  {
   "cell_type": "code",
   "execution_count": 52,
   "id": "1767c335",
   "metadata": {},
   "outputs": [
    {
     "data": {
      "text/plain": [
       "1"
      ]
     },
     "execution_count": 52,
     "metadata": {},
     "output_type": "execute_result"
    }
   ],
   "source": [
    "s.count('s')"
   ]
  },
  {
   "cell_type": "code",
   "execution_count": 53,
   "id": "bfe04115",
   "metadata": {},
   "outputs": [
    {
     "data": {
      "text/plain": [
       "2"
      ]
     },
     "execution_count": 53,
     "metadata": {},
     "output_type": "execute_result"
    }
   ],
   "source": [
    "s.count('a')"
   ]
  },
  {
   "cell_type": "code",
   "execution_count": 57,
   "id": "f03357ff",
   "metadata": {},
   "outputs": [
    {
     "data": {
      "text/plain": [
       "list"
      ]
     },
     "execution_count": 57,
     "metadata": {},
     "output_type": "execute_result"
    }
   ],
   "source": [
    "type(s.split(s))"
   ]
  },
  {
   "cell_type": "code",
   "execution_count": null,
   "id": "b2387220",
   "metadata": {},
   "outputs": [],
   "source": [
    "ak=\"LG Corporation was established as Lak Hui Chemical Industrial Corp. in 1947 by Koo In-hwoi.[4] In 1952, Lak Hui (락희) (pronounced \"Lucky\"; now LG Chem) became the first South Korean company to enter the plastics industry. As the company expanded its plastics business, it established GoldStar Co. Ltd. (now LG Electronics Inc.) in 1958. Both companies Lucky and GoldStar merged to form Lucky-Goldstar in 1983.[5]\n",
    "\n",
    "GoldStar produced South Korea's first radio.[5] Many consumer electronics were sold under the brand name GoldStar, while some other household products (not available outside South Korea) were sold under the brand name of Lucky. The Lucky brand was famous for hygiene products such as soaps and HiTi laundry detergents, but the brand was mostly associated with its Lucky and Perioe toothpaste. LG continues to manufacture some of these products for the South Korean market, such as laundry detergent.\n",
    "\n",
    "Koo In-hwoi led the corporation until his death in 1969, at which time, his son Koo Cha-kyung took over. He then passed the leadership to his son, Koo Bon-moo, in 1995. Koo Bon-moo renamed the company to LG in that year.[5] The company also associates the letters LG with the company's tagline \"Life's Good\". Since 2009, LG has owned the domain name LG.com.\n",
    "\n",
    "Koo Bon-moo died of a brain tumor on 20 May 2018.[6] In July 2018, it was announced that Koo Kwang-mo, the nephew and adopted son of Koo Bon-moo, will be the new CEO of LG. Koo Bon-moo adopted his nephew in 2004, after losing his only son in 1994,[7] citing \"a family tradition of male-only succession\".[8]\n",
    "\n",
    "\""
   ]
  },
  {
   "cell_type": "code",
   "execution_count": 61,
   "id": "2e1a4453",
   "metadata": {},
   "outputs": [
    {
     "data": {
      "text/plain": [
       "'LG Corporation (or LG Group) (Korean: 엘지), formerly Lucky-Goldstar from 1983 to 1995 (Korean: Leokki Geumseong; Korean: 럭키금성; Hanja: 樂喜金星), is a South Korean multinational conglomerate corporation founded by Koo In-hwoi and managed by successive generations of his family. It is the fourth-largest chaebol in South Korea. Its headquarters are in the LG Twin Towers building in Yeouido-dong, Yeongdeungpo District, Seoul.[3] LG makes electronics, chemicals, and telecommunications products and operates subsidiaries such as LG Electronics, Zenith, LG Display, LG Uplus, LG Innotek, LG Chem, and LG Energy Solution in over 80 countries'"
      ]
     },
     "execution_count": 61,
     "metadata": {},
     "output_type": "execute_result"
    }
   ],
   "source": [
    "ak"
   ]
  },
  {
   "cell_type": "code",
   "execution_count": 62,
   "id": "64c17cd5",
   "metadata": {},
   "outputs": [
    {
     "data": {
      "text/plain": [
       "['LG',\n",
       " 'Corporation',\n",
       " '(or',\n",
       " 'LG',\n",
       " 'Group)',\n",
       " '(Korean:',\n",
       " '엘지),',\n",
       " 'formerly',\n",
       " 'Lucky-Goldstar',\n",
       " 'from',\n",
       " '1983',\n",
       " 'to',\n",
       " '1995',\n",
       " '(Korean:',\n",
       " 'Leokki',\n",
       " 'Geumseong;',\n",
       " 'Korean:',\n",
       " '럭키금성;',\n",
       " 'Hanja:',\n",
       " '樂喜金星),',\n",
       " 'is',\n",
       " 'a',\n",
       " 'South',\n",
       " 'Korean',\n",
       " 'multinational',\n",
       " 'conglomerate',\n",
       " 'corporation',\n",
       " 'founded',\n",
       " 'by',\n",
       " 'Koo',\n",
       " 'In-hwoi',\n",
       " 'and',\n",
       " 'managed',\n",
       " 'by',\n",
       " 'successive',\n",
       " 'generations',\n",
       " 'of',\n",
       " 'his',\n",
       " 'family.',\n",
       " 'It',\n",
       " 'is',\n",
       " 'the',\n",
       " 'fourth-largest',\n",
       " 'chaebol',\n",
       " 'in',\n",
       " 'South',\n",
       " 'Korea.',\n",
       " 'Its',\n",
       " 'headquarters',\n",
       " 'are',\n",
       " 'in',\n",
       " 'the',\n",
       " 'LG',\n",
       " 'Twin',\n",
       " 'Towers',\n",
       " 'building',\n",
       " 'in',\n",
       " 'Yeouido-dong,',\n",
       " 'Yeongdeungpo',\n",
       " 'District,',\n",
       " 'Seoul.[3]',\n",
       " 'LG',\n",
       " 'makes',\n",
       " 'electronics,',\n",
       " 'chemicals,',\n",
       " 'and',\n",
       " 'telecommunications',\n",
       " 'products',\n",
       " 'and',\n",
       " 'operates',\n",
       " 'subsidiaries',\n",
       " 'such',\n",
       " 'as',\n",
       " 'LG',\n",
       " 'Electronics,',\n",
       " 'Zenith,',\n",
       " 'LG',\n",
       " 'Display,',\n",
       " 'LG',\n",
       " 'Uplus,',\n",
       " 'LG',\n",
       " 'Innotek,',\n",
       " 'LG',\n",
       " 'Chem,',\n",
       " 'and',\n",
       " 'LG',\n",
       " 'Energy',\n",
       " 'Solution',\n",
       " 'in',\n",
       " 'over',\n",
       " '80',\n",
       " 'countries']"
      ]
     },
     "execution_count": 62,
     "metadata": {},
     "output_type": "execute_result"
    }
   ],
   "source": [
    "ak.split(\" \")"
   ]
  },
  {
   "cell_type": "code",
   "execution_count": 63,
   "id": "bea3f7bc",
   "metadata": {},
   "outputs": [
    {
     "data": {
      "text/plain": [
       "'LG CORPORATION (OR LG GROUP) (KOREAN: 엘지), FORMERLY LUCKY-GOLDSTAR FROM 1983 TO 1995 (KOREAN: LEOKKI GEUMSEONG; KOREAN: 럭키금성; HANJA: 樂喜金星), IS A SOUTH KOREAN MULTINATIONAL CONGLOMERATE CORPORATION FOUNDED BY KOO IN-HWOI AND MANAGED BY SUCCESSIVE GENERATIONS OF HIS FAMILY. IT IS THE FOURTH-LARGEST CHAEBOL IN SOUTH KOREA. ITS HEADQUARTERS ARE IN THE LG TWIN TOWERS BUILDING IN YEOUIDO-DONG, YEONGDEUNGPO DISTRICT, SEOUL.[3] LG MAKES ELECTRONICS, CHEMICALS, AND TELECOMMUNICATIONS PRODUCTS AND OPERATES SUBSIDIARIES SUCH AS LG ELECTRONICS, ZENITH, LG DISPLAY, LG UPLUS, LG INNOTEK, LG CHEM, AND LG ENERGY SOLUTION IN OVER 80 COUNTRIES'"
      ]
     },
     "execution_count": 63,
     "metadata": {},
     "output_type": "execute_result"
    }
   ],
   "source": [
    "ak.upper()"
   ]
  },
  {
   "cell_type": "code",
   "execution_count": 64,
   "id": "909ed17a",
   "metadata": {},
   "outputs": [
    {
     "data": {
      "text/plain": [
       "'LG Corporation (or LG Group) (Korean: 엘지), formerly Lucky-Goldstar from 1983 to 1995 (Korean: Leokki Geumseong; Korean: 럭키금성; Hanja: 樂喜金星), is a South Korean multinational conglomerate corporation founded by Koo In-hwoi and managed by successive generations of his family. It is the fourth-largest chaebol in South Korea. Its headquarters are in the LG Twin Towers building in Yeouido-dong, Yeongdeungpo District, Seoul.[3] LG makes electronics, chemicals, and telecommunications products and operates subsidiaries such as LG Electronics, Zenith, LG Display, LG Uplus, LG Innotek, LG Chem, and LG Energy Solution in over 80 countries'"
      ]
     },
     "execution_count": 64,
     "metadata": {},
     "output_type": "execute_result"
    }
   ],
   "source": [
    "ak"
   ]
  },
  {
   "cell_type": "code",
   "execution_count": 66,
   "id": "a3b9a41b",
   "metadata": {},
   "outputs": [
    {
     "data": {
      "text/plain": [
       "'lg corporation (or lg group) (korean: 엘지), formerly lucky-goldstar from 1983 to 1995 (korean: leokki geumseong; korean: 럭키금성; hanja: 樂喜金星), is a south korean multinational conglomerate corporation founded by koo in-hwoi and managed by successive generations of his family. it is the fourth-largest chaebol in south korea. its headquarters are in the lg twin towers building in yeouido-dong, yeongdeungpo district, seoul.[3] lg makes electronics, chemicals, and telecommunications products and operates subsidiaries such as lg electronics, zenith, lg display, lg uplus, lg innotek, lg chem, and lg energy solution in over 80 countries'"
      ]
     },
     "execution_count": 66,
     "metadata": {},
     "output_type": "execute_result"
    }
   ],
   "source": [
    "ak.lower()"
   ]
  },
  {
   "cell_type": "code",
   "execution_count": 68,
   "id": "db53d5bd",
   "metadata": {},
   "outputs": [
    {
     "data": {
      "text/plain": [
       "'Lg Corporation (Or Lg Group) (Korean: 엘지), Formerly Lucky-Goldstar From 1983 To 1995 (Korean: Leokki Geumseong; Korean: 럭키금성; Hanja: 樂喜金星), Is A South Korean Multinational Conglomerate Corporation Founded By Koo In-Hwoi And Managed By Successive Generations Of His Family. It Is The Fourth-Largest Chaebol In South Korea. Its Headquarters Are In The Lg Twin Towers Building In Yeouido-Dong, Yeongdeungpo District, Seoul.[3] Lg Makes Electronics, Chemicals, And Telecommunications Products And Operates Subsidiaries Such As Lg Electronics, Zenith, Lg Display, Lg Uplus, Lg Innotek, Lg Chem, And Lg Energy Solution In Over 80 Countries'"
      ]
     },
     "execution_count": 68,
     "metadata": {},
     "output_type": "execute_result"
    }
   ],
   "source": [
    "ak.title()"
   ]
  },
  {
   "cell_type": "code",
   "execution_count": 75,
   "id": "3bc3c4b9",
   "metadata": {},
   "outputs": [
    {
     "data": {
      "text/plain": [
       "'akash'"
      ]
     },
     "execution_count": 75,
     "metadata": {},
     "output_type": "execute_result"
    }
   ],
   "source": [
    "s"
   ]
  },
  {
   "cell_type": "code",
   "execution_count": 76,
   "id": "c65b9d84",
   "metadata": {},
   "outputs": [
    {
     "data": {
      "text/plain": [
       "'AKASH'"
      ]
     },
     "execution_count": 76,
     "metadata": {},
     "output_type": "execute_result"
    }
   ],
   "source": [
    "s.swapcase()"
   ]
  },
  {
   "cell_type": "code",
   "execution_count": 80,
   "id": "a0f6d86b",
   "metadata": {},
   "outputs": [
    {
     "data": {
      "text/plain": [
       "'ak  ash'"
      ]
     },
     "execution_count": 80,
     "metadata": {},
     "output_type": "execute_result"
    }
   ],
   "source": [
    "s=\"     ak  ash \"\n",
    "s.strip()"
   ]
  },
  {
   "cell_type": "code",
   "execution_count": 78,
   "id": "0b4072d6",
   "metadata": {},
   "outputs": [
    {
     "data": {
      "text/plain": [
       "'hsaka'"
      ]
     },
     "execution_count": 78,
     "metadata": {},
     "output_type": "execute_result"
    }
   ],
   "source": [
    "s[::-1]"
   ]
  },
  {
   "cell_type": "code",
   "execution_count": 81,
   "id": "fcdcc251",
   "metadata": {},
   "outputs": [
    {
     "data": {
      "text/plain": [
       "'ak  ash '"
      ]
     },
     "execution_count": 81,
     "metadata": {},
     "output_type": "execute_result"
    }
   ],
   "source": [
    "s.lstrip()"
   ]
  },
  {
   "cell_type": "code",
   "execution_count": 82,
   "id": "97892383",
   "metadata": {},
   "outputs": [
    {
     "data": {
      "text/plain": [
       "'     ak  ash'"
      ]
     },
     "execution_count": 82,
     "metadata": {},
     "output_type": "execute_result"
    }
   ],
   "source": [
    "s.rstrip()"
   ]
  },
  {
   "cell_type": "code",
   "execution_count": 83,
   "id": "b689dec4",
   "metadata": {},
   "outputs": [
    {
     "data": {
      "text/plain": [
       "'a  k  a  s  h'"
      ]
     },
     "execution_count": 83,
     "metadata": {},
     "output_type": "execute_result"
    }
   ],
   "source": [
    "\"  \".join (\"akash\")"
   ]
  },
  {
   "cell_type": "code",
   "execution_count": 85,
   "id": "78b3364e",
   "metadata": {},
   "outputs": [
    {
     "data": {
      "text/plain": [
       "'###     ak  ash ####'"
      ]
     },
     "execution_count": 85,
     "metadata": {},
     "output_type": "execute_result"
    }
   ],
   "source": [
    "s.center(20,'#')"
   ]
  },
  {
   "cell_type": "code",
   "execution_count": 86,
   "id": "a9f42c71",
   "metadata": {},
   "outputs": [
    {
     "data": {
      "text/plain": [
       "False"
      ]
     },
     "execution_count": 86,
     "metadata": {},
     "output_type": "execute_result"
    }
   ],
   "source": [
    "s.isupper()"
   ]
  },
  {
   "cell_type": "code",
   "execution_count": 87,
   "id": "7b186cc8",
   "metadata": {},
   "outputs": [
    {
     "data": {
      "text/plain": [
       "'     ak  ash '"
      ]
     },
     "execution_count": 87,
     "metadata": {},
     "output_type": "execute_result"
    }
   ],
   "source": [
    "s"
   ]
  },
  {
   "cell_type": "code",
   "execution_count": 88,
   "id": "eed53f16",
   "metadata": {},
   "outputs": [
    {
     "data": {
      "text/plain": [
       "True"
      ]
     },
     "execution_count": 88,
     "metadata": {},
     "output_type": "execute_result"
    }
   ],
   "source": [
    "s1='AKASH'\n",
    "s1.isupper()"
   ]
  },
  {
   "cell_type": "code",
   "execution_count": 89,
   "id": "5ec6f305",
   "metadata": {},
   "outputs": [
    {
     "data": {
      "text/plain": [
       "True"
      ]
     },
     "execution_count": 89,
     "metadata": {},
     "output_type": "execute_result"
    }
   ],
   "source": [
    "s2.islower()"
   ]
  },
  {
   "cell_type": "code",
   "execution_count": 93,
   "id": "160a0a25",
   "metadata": {},
   "outputs": [
    {
     "ename": "AttributeError",
     "evalue": "'str' object has no attribute 'ispace'",
     "output_type": "error",
     "traceback": [
      "\u001b[1;31m---------------------------------------------------------------------------\u001b[0m",
      "\u001b[1;31mAttributeError\u001b[0m                            Traceback (most recent call last)",
      "\u001b[1;32m~\\AppData\\Local\\Temp/ipykernel_1532/935681077.py\u001b[0m in \u001b[0;36m<module>\u001b[1;34m\u001b[0m\n\u001b[0;32m      1\u001b[0m \u001b[0ms4\u001b[0m \u001b[1;33m=\u001b[0m \u001b[1;34m\"   \"\u001b[0m\u001b[1;33m\u001b[0m\u001b[1;33m\u001b[0m\u001b[0m\n\u001b[1;32m----> 2\u001b[1;33m \u001b[0ms4\u001b[0m\u001b[1;33m.\u001b[0m\u001b[0mispace\u001b[0m\u001b[1;33m(\u001b[0m\u001b[1;33m)\u001b[0m\u001b[1;33m\u001b[0m\u001b[1;33m\u001b[0m\u001b[0m\n\u001b[0m",
      "\u001b[1;31mAttributeError\u001b[0m: 'str' object has no attribute 'ispace'"
     ]
    }
   ],
   "source": [
    "s4 = \"   \"\n",
    "s4.ispace()"
   ]
  },
  {
   "cell_type": "code",
   "execution_count": 91,
   "id": "fe422c6e",
   "metadata": {},
   "outputs": [
    {
     "data": {
      "text/plain": [
       "False"
      ]
     },
     "execution_count": 91,
     "metadata": {},
     "output_type": "execute_result"
    }
   ],
   "source": [
    "s1.isspace()"
   ]
  },
  {
   "cell_type": "code",
   "execution_count": 98,
   "id": "262811c6",
   "metadata": {},
   "outputs": [
    {
     "data": {
      "text/plain": [
       "10"
      ]
     },
     "execution_count": 98,
     "metadata": {},
     "output_type": "execute_result"
    }
   ],
   "source": [
    "a"
   ]
  },
  {
   "cell_type": "code",
   "execution_count": 104,
   "id": "f4dcab2d",
   "metadata": {},
   "outputs": [
    {
     "data": {
      "text/plain": [
       "True"
      ]
     },
     "execution_count": 104,
     "metadata": {},
     "output_type": "execute_result"
    }
   ],
   "source": [
    "a5=\"akash pandey\"\n",
    "a5.startswith(\"a\")"
   ]
  },
  {
   "cell_type": "code",
   "execution_count": 106,
   "id": "c8098777",
   "metadata": {},
   "outputs": [
    {
     "data": {
      "text/plain": [
       "'akash pandey'"
      ]
     },
     "execution_count": 106,
     "metadata": {},
     "output_type": "execute_result"
    }
   ],
   "source": [
    "a5"
   ]
  },
  {
   "cell_type": "code",
   "execution_count": 108,
   "id": "2b326d51",
   "metadata": {},
   "outputs": [
    {
     "data": {
      "text/plain": [
       "False"
      ]
     },
     "execution_count": 108,
     "metadata": {},
     "output_type": "execute_result"
    }
   ],
   "source": [
    "a5.isdigit()"
   ]
  },
  {
   "cell_type": "code",
   "execution_count": 111,
   "id": "ec2ec321",
   "metadata": {},
   "outputs": [
    {
     "data": {
      "text/plain": [
       "False"
      ]
     },
     "execution_count": 111,
     "metadata": {},
     "output_type": "execute_result"
    }
   ],
   "source": [
    "a5.isnumeric()"
   ]
  },
  {
   "cell_type": "code",
   "execution_count": 112,
   "id": "91886457",
   "metadata": {},
   "outputs": [
    {
     "data": {
      "text/plain": [
       "'apandeykpandeyapandeyspandeyh'"
      ]
     },
     "execution_count": 112,
     "metadata": {},
     "output_type": "execute_result"
    }
   ],
   "source": [
    "'pandey'.join (\"akash\")"
   ]
  },
  {
   "cell_type": "code",
   "execution_count": 113,
   "id": "be12da8c",
   "metadata": {},
   "outputs": [
    {
     "data": {
      "text/plain": [
       "False"
      ]
     },
     "execution_count": 113,
     "metadata": {},
     "output_type": "execute_result"
    }
   ],
   "source": [
    "a5.isnumeric()"
   ]
  },
  {
   "cell_type": "code",
   "execution_count": 114,
   "id": "3c3c2b5e",
   "metadata": {},
   "outputs": [
    {
     "data": {
      "text/plain": [
       "'akash pandey'"
      ]
     },
     "execution_count": 114,
     "metadata": {},
     "output_type": "execute_result"
    }
   ],
   "source": [
    "a5"
   ]
  },
  {
   "cell_type": "code",
   "execution_count": null,
   "id": "5af8c0b1",
   "metadata": {},
   "outputs": [],
   "source": [
    "s=\"this is my first python programming class and i am learning python string and its function\""
   ]
  }
 ],
 "metadata": {
  "kernelspec": {
   "display_name": "Python 3 (ipykernel)",
   "language": "python",
   "name": "python3"
  },
  "language_info": {
   "codemirror_mode": {
    "name": "ipython",
    "version": 3
   },
   "file_extension": ".py",
   "mimetype": "text/x-python",
   "name": "python",
   "nbconvert_exporter": "python",
   "pygments_lexer": "ipython3",
   "version": "3.9.7"
  }
 },
 "nbformat": 4,
 "nbformat_minor": 5
}
